{
 "cells": [
  {
   "cell_type": "markdown",
   "id": "3ff46211",
   "metadata": {},
   "source": [
    "# 📌 Python Cheat Sheet"
   ]
  },
  {
   "cell_type": "markdown",
   "id": "f61ce06f",
   "metadata": {},
   "source": [
    "## **1️⃣ Python Basics**"
   ]
  },
  {
   "cell_type": "markdown",
   "id": "35468560",
   "metadata": {},
   "source": [
    "### **Comments**"
   ]
  },
  {
   "cell_type": "code",
   "execution_count": null,
   "id": "60662d36",
   "metadata": {},
   "outputs": [],
   "source": [
    "# This is a single-line comment\n",
    "\n",
    "\"\"\"\n",
    "This is a \n",
    "multi-line comment\n",
    "\"\"\""
   ]
  },
  {
   "cell_type": "markdown",
   "id": "a3bdb984",
   "metadata": {},
   "source": [
    "### **Variable Assignment**"
   ]
  },
  {
   "cell_type": "code",
   "execution_count": null,
   "id": "60054b0b",
   "metadata": {},
   "outputs": [],
   "source": [
    "name = \"John\"  # String\n",
    "age = 30  # Integer\n",
    "pi = 3.14  # Float\n",
    "is_valid = True  # Boolean"
   ]
  },
  {
   "cell_type": "markdown",
   "id": "dce56f9f",
   "metadata": {},
   "source": [
    "### **Data Types**"
   ]
  },
  {
   "cell_type": "markdown",
   "id": "4706921a",
   "metadata": {},
   "source": [
    "| Data Type | Example |\n",
    "|-----------|---------|\n",
    "| Integer | `x = 10` |\n",
    "| Float | `y = 3.14` |\n",
    "| String | `name = \"John\"` |\n",
    "| Boolean | `is_valid = True` |"
   ]
  },
  {
   "cell_type": "markdown",
   "id": "255ea872",
   "metadata": {},
   "source": [
    "### **String Operations**"
   ]
  },
  {
   "cell_type": "code",
   "execution_count": null,
   "id": "82d03f1f",
   "metadata": {},
   "outputs": [],
   "source": [
    "text = \"Hello World\"\n",
    "length = len(text)  # Get string length\n",
    "lowercase_text = text.lower()  # Convert to lowercase\n",
    "uppercase_text = text.upper()  # Convert to uppercase\n",
    "trimmed = text.strip()  # Remove leading/trailing whitespace\n",
    "new_text = text.replace(\"World\", \"Python\")  # Replace substrings\n",
    "words = text.split(\" \")  # Split into a list"
   ]
  },
  {
   "cell_type": "markdown",
   "id": "68b3df61",
   "metadata": {},
   "source": [
    "### **Printing**"
   ]
  },
  {
   "cell_type": "code",
   "execution_count": null,
   "id": "4258ffc8",
   "metadata": {},
   "outputs": [],
   "source": [
    "print(\"Hello, World!\")  \n",
    "print(f\"My name is {name} and I am {age} years old.\")  # f-strings"
   ]
  },
  {
   "cell_type": "markdown",
   "id": "717e1e42",
   "metadata": {},
   "source": [
    "## **2️⃣ Python Operators**"
   ]
  },
  {
   "cell_type": "markdown",
   "id": "e493fc3c",
   "metadata": {},
   "source": [
    "| Operator | Description | Example |\n",
    "|----------|------------|---------|\n",
    "| `+` | Addition | `x + y` |\n",
    "| `-` | Subtraction | `x - y` |\n",
    "| `*` | Multiplication | `x * y` |\n",
    "| `/` | Division (float) | `x / y` |\n",
    "| `//` | Floor Division (int) | `x // y` |\n",
    "| `%` | Modulus (remainder) | `x % y` |\n",
    "| `**` | Exponentiation | `x ** y` |"
   ]
  },
  {
   "cell_type": "markdown",
   "id": "534e16cc",
   "metadata": {},
   "source": [
    "## **3️⃣ Python Data Structures**"
   ]
  },
  {
   "cell_type": "markdown",
   "id": "82dd1bfb",
   "metadata": {},
   "source": [
    "| Feature | List (`[]`) | Tuple (`()`) | Dictionary (`{}`) | Set (`{}`) |\n",
    "|---------|------------|-------------|-----------------|------------|\n",
    "| Ordered | ✅ | ✅ | ✅ (Python 3.7+) | ❌ |\n",
    "| Mutable | ✅ | ❌ | ✅ | ✅ |\n",
    "| Duplicates | ✅ | ✅ | Keys ❌, Values ✅ | ❌ |\n",
    "| Indexing | ✅ | ✅ | By key | ❌ |\n",
    "| Performance | Slower | Faster (immutable) | Slower (key lookups) | Faster (hashing) |"
   ]
  },
  {
   "cell_type": "markdown",
   "id": "262fea12",
   "metadata": {},
   "source": [
    "## **4️⃣ Lists (Ordered, Mutable)**"
   ]
  },
  {
   "cell_type": "code",
   "execution_count": null,
   "id": "a9ce10d4",
   "metadata": {},
   "outputs": [],
   "source": [
    "fruits = [\"apple\", \"banana\", \"cherry\"]\n",
    "fruits.append(\"mango\")  # Add to end\n",
    "fruits.insert(1, \"orange\")  # Insert at index 1\n",
    "fruits.remove(\"banana\")  # Remove first occurrence\n",
    "fruits.pop()  # Remove last item\n",
    "fruits.sort()  # Sort list"
   ]
  },
  {
   "cell_type": "markdown",
   "id": "7b9a9783",
   "metadata": {},
   "source": [
    "## **5️⃣ Tuples (Ordered, Immutable)**"
   ]
  },
  {
   "cell_type": "code",
   "execution_count": null,
   "id": "8f10cea8",
   "metadata": {},
   "outputs": [],
   "source": [
    "coordinates = (10, 20)  # Immutable\n",
    "x, y = coordinates  # Tuple unpacking"
   ]
  },
  {
   "cell_type": "markdown",
   "id": "e473c6cd",
   "metadata": {},
   "source": [
    "## **6️⃣ Dictionaries (Key-Value Pairs)**"
   ]
  },
  {
   "cell_type": "code",
   "execution_count": null,
   "id": "60bd95bc",
   "metadata": {},
   "outputs": [],
   "source": [
    "person = {\"name\": \"John\", \"age\": 30, \"city\": \"New York\"}\n",
    "person[\"age\"] = 31  # Modify value\n",
    "person[\"country\"] = \"USA\"  # Add new key-value pair"
   ]
  },
  {
   "cell_type": "markdown",
   "id": "18e29cf6",
   "metadata": {},
   "source": [
    "## **7️⃣ Sets (Unordered, Unique)**"
   ]
  },
  {
   "cell_type": "code",
   "execution_count": null,
   "id": "dace2c51",
   "metadata": {},
   "outputs": [],
   "source": [
    "unique_numbers = {1, 2, 3, 4, 4}  # {1, 2, 3, 4} (no duplicates)\n",
    "unique_numbers.add(5)  # Add element\n",
    "unique_numbers.remove(2)  # Remove element"
   ]
  },
  {
   "cell_type": "markdown",
   "id": "a1e5a456",
   "metadata": {},
   "source": [
    "## **8️⃣ Loops & Conditionals**"
   ]
  },
  {
   "cell_type": "code",
   "execution_count": null,
   "id": "e817ad1f",
   "metadata": {},
   "outputs": [],
   "source": [
    "age = 18\n",
    "if age >= 18:\n",
    "    print(\"Adult\")\n",
    "elif age >= 13:\n",
    "    print(\"Teenager\")\n",
    "else:\n",
    "    print(\"Child\")"
   ]
  },
  {
   "cell_type": "markdown",
   "id": "fd03acd9",
   "metadata": {},
   "source": [
    "## **9️⃣ Functions**"
   ]
  },
  {
   "cell_type": "code",
   "execution_count": null,
   "id": "2ea509fb",
   "metadata": {},
   "outputs": [],
   "source": [
    "def greet(name):\n",
    "    return f\"Hello, {name}!\"\n",
    "\n",
    "print(greet(\"Alice\"))  # Output: Hello, Alice!"
   ]
  },
  {
   "cell_type": "markdown",
   "id": "17b4e01b",
   "metadata": {},
   "source": [
    "## **🔟 List Comprehensions**"
   ]
  },
  {
   "cell_type": "code",
   "execution_count": null,
   "id": "f9d185e1",
   "metadata": {},
   "outputs": [],
   "source": [
    "squared = [x**2 for x in range(5)]  # [0, 1, 4, 9, 16]\n",
    "even_numbers = [x for x in range(10) if x % 2 == 0]"
   ]
  },
  {
   "cell_type": "markdown",
   "id": "0e252d3b",
   "metadata": {},
   "source": [
    "## **1️⃣1️⃣ Exception Handling**"
   ]
  },
  {
   "cell_type": "code",
   "execution_count": null,
   "id": "fb8d1ec8",
   "metadata": {},
   "outputs": [],
   "source": [
    "try:\n",
    "    x = 10 / 0\n",
    "except ZeroDivisionError as e:\n",
    "    print(\"Cannot divide by zero!\")\n",
    "finally:\n",
    "    print(\"Execution complete.\")"
   ]
  },
  {
   "cell_type": "markdown",
   "id": "f0e10a7e",
   "metadata": {},
   "source": [
    "## **1️⃣2️⃣ File Handling**"
   ]
  },
  {
   "cell_type": "code",
   "execution_count": null,
   "id": "22134410",
   "metadata": {},
   "outputs": [],
   "source": [
    "with open(\"file.txt\", \"w\") as f:\n",
    "    f.write(\"Hello, World!\")\n",
    "\n",
    "with open(\"file.txt\", \"r\") as f:\n",
    "    content = f.read()"
   ]
  },
  {
   "cell_type": "markdown",
   "id": "03dafacd",
   "metadata": {},
   "source": [
    "## **1️⃣3️⃣ Modules & Imports**"
   ]
  },
  {
   "cell_type": "code",
   "execution_count": null,
   "id": "68d74ebf",
   "metadata": {},
   "outputs": [],
   "source": [
    "import math\n",
    "print(math.sqrt(16))  # Output: 4.0\n",
    "\n",
    "from random import randint\n",
    "print(randint(1, 10))  # Random number between 1 and 10"
   ]
  },
  {
   "cell_type": "markdown",
   "id": "969e70f9",
   "metadata": {},
   "source": [
    "### **📌 Summary**"
   ]
  },
  {
   "cell_type": "markdown",
   "id": "5c53857f",
   "metadata": {},
   "source": [
    "- **Lists** = Ordered, Mutable ✅, Indexed ✅, Duplicates ✅\n",
    "- **Tuples** = Ordered, Immutable ❌, Indexed ✅, Duplicates ✅\n",
    "- **Dictionaries** = Key-Value, Mutable ✅, Keys Unique ❌, Values ✅\n",
    "- **Sets** = Unordered, Mutable ✅, Unique ❌, No Indexing ❌"
   ]
  }
 ],
 "metadata": {},
 "nbformat": 4,
 "nbformat_minor": 5
}