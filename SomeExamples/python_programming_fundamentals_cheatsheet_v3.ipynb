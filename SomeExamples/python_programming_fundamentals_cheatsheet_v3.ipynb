{
 "cells": [
  {
   "cell_type": "markdown",
   "id": "6a92d999",
   "metadata": {},
   "source": [
    "# Python & Data Science Fun Guide and Cheat Sheet"
   ]
  },
  {
   "cell_type": "markdown",
   "id": "924eb5ca",
   "metadata": {},
   "source": [
    "Welcome, Code Warrior to your Pythong cheat sheet! This notebook covers Python basics, control flow, data structures, file I/O, exception handling, object-oriented programming, and data libraries (Pandas, NumPy), plus API & web scraping tips. Each section includes practical examples and explanations to help you understand why things work as they do."
   ]
  },
  {
   "cell_type": "markdown",
   "id": "13f1337d",
   "metadata": {},
   "source": [
    "## 1. Python Fundamentals"
   ]
  },
  {
   "cell_type": "markdown",
   "id": "2a3e95ab",
   "metadata": {},
   "source": [
    "### Comments"
   ]
  },
  {
   "cell_type": "code",
   "execution_count": null,
   "id": "9e9170de",
   "metadata": {},
   "outputs": [],
   "source": [
    "# Single-line comment: your mission log in the Matrix\n",
    "# Example: \n",
    "# This is a comment\n",
    "\n",
    "\"\"\"\n",
    "Multi-line comments: perfect for epic backstories (or documenting your functions).\n",
    "\"\"\""
   ]
  },
  {
   "cell_type": "markdown",
   "id": "d06da5e5",
   "metadata": {},
   "source": [
    "### Variable Assignments & Data Types"
   ]
  },
  {
   "cell_type": "code",
   "execution_count": null,
   "id": "9f549093",
   "metadata": {},
   "outputs": [],
   "source": [
    "# Variables store your data—like secret codes:\n",
    "hero = \"Neo\"            # String\n",
    "lives = 3               # Integer (extra lives, like in a video game)\n",
    "pi = 3.14159            # Float\n",
    "is_awake = True         # Boolean"
   ]
  },
  {
   "cell_type": "markdown",
   "id": "01f0fdfb",
   "metadata": {},
   "source": [
    "### String Operations, Indexing & Slicing"
   ]
  },
  {
   "cell_type": "code",
   "execution_count": null,
   "id": "fe645486",
   "metadata": {},
   "outputs": [],
   "source": [
    "# Strings are sequences (imagine them as lines of code in the Matrix):\n",
    "spell = \"Expecto Patronum\"\n",
    "print('Spell:', spell)\n",
    "\n",
    "# Indexing: Get the first character\n",
    "print('First character:', spell[0])  # 'E'\n",
    "print('First letter:', spell[-1])  # 'm'\n",
    "\n",
    "# Slicing: Extract part of the spell\n",
    "print('Partial spell:', spell[0:6])  # 'Expect'\n",
    "\n",
    "# Common string methods:\n",
    "print('Lowercase:', spell.lower()) # 'expecto patronum'\n",
    "print('Uppercase:', spell.upper()) # 'EXPECTO PATRONUM'\n",
    "print('Replaced:', spell.replace(\"Patronum\", \"Lumos\")) # 'Expecto Lumos'\n",
    "words = spell.split() # Split into words\n",
    "print('Words in spell:', words) # ['Expecto', 'Patronum']"
   ]
  },
  {
   "cell_type": "markdown",
   "id": "e2dc59bb",
   "metadata": {},
   "source": [
    "### Operators & Comparisons"
   ]
  },
  {
   "cell_type": "markdown",
   "id": "2c71dd97",
   "metadata": {},
   "source": [
    "Operators are the building blocks of expressions. Here are some common ones:\n",
    "\n",
    "| Operator | Description | Example |\n",
    "|----------|-------------|---------|\n",
    "| `+`      | Addition    | `3 + 5` |\n",
    "| `-`      | Subtraction | `10 - 2` |\n",
    "| `*`      | Multiplication | `4 * 3` |\n",
    "| `/`      | Division (float) | `10 / 2` |\n",
    "| `//`     | Floor Division | `10 // 3` |\n",
    "| `%`      | Modulus     | `10 % 3` |\n",
    "| `**`     | Exponentiation | `2 ** 3` |\n",
    "| `==`     | Equal       | `x == y` |\n",
    "| `!=`     | Not Equal   | `x != y` |\n",
    "| `>=`     | Greater Than or Equal | `x >= y` |\n",
    "| `>`      | Greater Than | `x > y` |\n",
    "| `<=`     | Less Than or Equal | `x <= y` |\n",
    "| `<`      | Less Than   | `x < y` |\n",
    "| `and`    | Logical AND | `x > 5 and y < 10` |\n",
    "| `or`     | Logical OR  | `x == 5 or y == 10` |\n",
    "| `not`    | Logical NOT | `not flag` |\n",
    "\n",
    "These operators let you compare values and build complex conditions.\n",
    "\n",
    "For example, use `and` to ensure multiple conditions are met:\n",
    "\n",
    "```python\n",
    "marks = 90\n",
    "attendance = 87\n",
    "if marks >= 80 and attendance >= 85:\n",
    "    print(\"Qualify for honors\")\n",
    "else:\n",
    "    print(\"Not qualified for honors\")\n",
    "```"
   ]
  },
  {
   "cell_type": "markdown",
   "id": "7cf61b7f",
   "metadata": {},
   "source": [
    "## 2. Control Flow & Looping"
   ]
  },
  {
   "cell_type": "markdown",
   "id": "48892a04",
   "metadata": {},
   "source": [
    "Both **for** and **while** loops follow a pattern:\n",
    "1. **Initialization:** Set up your starting point or conditions.\n",
    "2. **Condition:** Decide when the loop should keep going.\n",
    "3. **Execution:** Run the code inside the loop.\n",
    "4. **Update:** Change your starting point or condition to eventually end the loop.\n",
    "\n",
    "**For Loops:** Use when you know the number of iterations or are iterating over a collection(like looping through your playlist).\n",
    "\n",
    "**While Loops:** Use when tje number of iterations is uncertain and depends on a condition is met."
   ]
  },
  {
   "cell_type": "markdown",
   "id": "a9420ba2",
   "metadata": {},
   "source": [
    "### For Loop Examples: Iterating over a collection"
   ]
  },
  {
   "cell_type": "code",
   "execution_count": null,
   "id": "a3f0914a",
   "metadata": {},
   "outputs": [],
   "source": [
    "# Example 1: Iterating over a list of years\n",
    "release_years = [2001, 2003, 2005]\n",
    "for i in range(len(release_years)):\n",
    "    print(f\"Arsenal star year: {release_years[i]}\")\n",
    "\n",
    "# Example 2: Modifying elements in a list\n",
    "colors = ['red', 'yellow', 'green', 'purple', 'blue']\n",
    "for i in range(len(colors)):\n",
    "    print(f\"Before: Color {i} is {colors[i]}\")\n",
    "    colors[i] = 'white'\n",
    "    print(f\"After: Color {i} is {colors[i]}\")\n",
    "\n",
    "# Example 3: Updating dictionary values\n",
    "systems = {'warp_drive': 5, 'shields': 3, 'phasers': 4}\n",
    "for key in systems:\n",
    "    systems[key] += 1\n",
    "print('Upgraded systems:', systems)"
   ]
  },
  {
   "cell_type": "markdown",
   "id": "d675652a",
   "metadata": {},
   "source": [
    "### While Loop Examples"
   ]
  },
  {
   "cell_type": "code",
   "execution_count": null,
   "id": "ace029b7",
   "metadata": {},
   "outputs": [],
   "source": [
    "# Example: Print numbers until a condition is met. E.g countdown before a hyperspace jump\n",
    "countdown = 5\n",
    "while countdown > 0:\n",
    "    print(f\"Jump in {countdown}...\")\n",
    "    countdown -= 1\n",
    "print(\"Warp drive engaged!\")"
   ]
  },
  {
   "cell_type": "markdown",
   "id": "ef705633",
   "metadata": {},
   "source": [
    "### Using `enumerate` for Advanced Looping"
   ]
  },
  {
   "cell_type": "code",
   "execution_count": null,
   "id": "893eac18",
   "metadata": {},
   "outputs": [],
   "source": [
    "# Example: Looping over a playlist with indices\n",
    "tracks = ['Breakbeat', 'Neurofunk', 'Liquid Funk']\n",
    "for index, track in enumerate(tracks):\n",
    "    print(f\"Track {index + 1}: {track}\") # Track 1: Breakbeat # Track 2: Neurofunk # Track 3: Liquid Funk"
   ]
  },
  {
   "cell_type": "markdown",
   "id": "3996d6a6",
   "metadata": {},
   "source": [
    "## 3. Functions & Lambdas"
   ]
  },
  {
   "cell_type": "markdown",
   "id": "6f7af336",
   "metadata": {},
   "source": [
    "### Defining and Calling Functions"
   ]
  },
  {
   "cell_type": "code",
   "execution_count": null,
   "id": "79bb9557",
   "metadata": {},
   "outputs": [],
   "source": [
    "# Functions allow you to reuse code.\n",
    "def cast_spell(spell_name):\n",
    "    return f\"Casting {spell_name}!\"\n",
    "\n",
    "print(cast_spell(\"Expecto Patronum\"))"
   ]
  },
  {
   "cell_type": "markdown",
   "id": "524d2e7e",
   "metadata": {},
   "source": [
    "### Lambda Functions and List comprehension"
   ]
  },
  {
   "cell_type": "code",
   "execution_count": null,
   "id": "3031745b",
   "metadata": {},
   "outputs": [],
   "source": [
    "# Lambda: a one-line function to square a number\n",
    "square = lambda x: x * x\n",
    "print(square(7))  # Output: 49\n",
    "# List comprehensions: a concise way to create lists\n",
    "squares = [x * x for x in range(10)]\n",
    "print(squares) # Output: [0, 1, 4, 9, 16, 25, 36, 49, 64, 81]"
   ]
  },
  {
   "cell_type": "markdown",
   "id": "8ca3625d",
   "metadata": {},
   "source": [
    "## 4. Data Structures"
   ]
  },
  {
   "cell_type": "markdown",
   "id": "020e2290",
   "metadata": {},
   "source": [
    "### Overview & Comparison"
   ]
  },
  {
   "cell_type": "markdown",
   "id": "085f12dd",
   "metadata": {},
   "source": [
    "| Feature        | List (`[]`)        | Tuple (`()`)         | Dictionary (`{}`)                           | Set (`{}`)                    |\n",
    "|----------------|--------------------|----------------------|---------------------------------------------|-------------------------------|\n",
    "| Ordered        | ✅ Yes             | ✅ Yes               | ✅ Yes (insertion order, Py3.7+)             | ❌ Unordered                  |\n",
    "| Mutable        | ✅ Yes             | ❌ No                | ✅ Yes (values mutable; keys immutable)     | ✅ Yes (elements immutable)   |\n",
    "| Duplicates     | Allowed            | Allowed              | Keys: **Unique**; Values: Allowed           | Not allowed (unique only)     |\n",
    "| Indexing       | Yes                | Yes                  | By key only                                 | Not applicable               |\n",
    "| Use Case       | Dynamic collections| Fixed data           | Fast lookup/mapping                         | Uniqueness, set operations   |"
   ]
  },
  {
   "cell_type": "markdown",
   "id": "ea62f15e",
   "metadata": {},
   "source": [
    "### Lists"
   ]
  },
  {
   "cell_type": "code",
   "execution_count": null,
   "id": "c35f53e6",
   "metadata": {},
   "outputs": [],
   "source": [
    "# Creating and modifying a list\n",
    "playlist = ['Old Skool Hip Hop', 'Drum & Bass', 'Jungle']\n",
    "print('Original playlist:', playlist)\n",
    "print(f\"Playlist length: {len(playlist)}\") # Length of the playlist 4\n",
    "print(f\"First track: {playlist[0]}\") # First track in the playlist\n",
    "print(f\"Slice playlist: {playlist[1:3]}\") # Slice the playlist from index 1 to 2\n",
    "\n",
    "# Append a new track\n",
    "playlist.append('Breakbeat') # Add a new style\n",
    "playlist.insert(1, 'Dubstep') # Insert Dubsete at index 1\n",
    "print('Updated playlist:', playlist) # ['Old Skool Hip Hop', 'Dubstep', 'Drum & Bass', 'Jungle', 'Breakbeat']"
   ]
  },
  {
   "cell_type": "markdown",
   "id": "a2ec438a",
   "metadata": {},
   "source": [
    "### Tuples"
   ]
  },
  {
   "cell_type": "code",
   "execution_count": null,
   "id": "fb3d0f49",
   "metadata": {},
   "outputs": [],
   "source": [
    "# Tuples are immutable. \n",
    "coordinates = (42, 73)\n",
    "print('Original coordinates:', coordinates)\n",
    "x, y = coordinates # Unpacking the tuple\n",
    "print('First element of tuple:', x) # 42\n",
    "print('First element of tuple:', coordinates[0]) # 42\n",
    "\n",
    "# To update, convert to a list and back.\n",
    "temp = list(coordinates)\n",
    "temp[0] = 99\n",
    "coordinates = tuple(temp)\n",
    "print('Updated coordinates:', coordinates)\n",
    "\n",
    "# Since tuples are immutable, sorting returns a new tuple\n",
    "sorted_tuple = tuple(sorted((3, 1, 4, 2)))\n",
    "print('Sorted tuple:', sorted_tuple) # (1, 2, 3, 4) "
   ]
  },
  {
   "cell_type": "markdown",
   "id": "24c43540",
   "metadata": {},
   "source": [
    "### Dictionaries"
   ]
  },
  {
   "cell_type": "code",
   "execution_count": null,
   "id": "258d5fca",
   "metadata": {},
   "outputs": [],
   "source": [
    "# Creating a dictionary\n",
    "starship = {\"warp_drive\": 5, \"shields\": 3, \"phasers\": 4}\n",
    "print('Initial starship systems:', starship)\n",
    "print('Warp drive:', starship['warp_drive']) # Accessing by key\n",
    "starship['nacelles'] = 2 # Adding a new key-value pair\n",
    "print('Starship systems:', list(starship.keys())) # List of keys\n",
    "print('Starship system values:', list(starship.values())) # List of values\n",
    "\n",
    "# Boost each system\n",
    "for system in starship:\n",
    "    starship[system] += 1\n",
    "print('Upgraded starship systems:', starship)"
   ]
  },
  {
   "cell_type": "markdown",
   "id": "44653e59",
   "metadata": {},
   "source": [
    "### Sets"
   ]
  },
  {
   "cell_type": "code",
   "execution_count": null,
   "id": "ab4e82d5",
   "metadata": {},
   "outputs": [],
   "source": [
    "# Sets hold unique items like a collection of legendary relics.\n",
    "relics = {\"Excalibur\", \"Mjolnir\", \"Philosopher's Stone\", \"Excalibur\"}\n",
    "print('Unique relics:', relics) # Set automatically removes duplcated \"Excalibur\"\n",
    "\n",
    "# Add a relic and remove one\n",
    "relics.add(\"Infinity Gauntlet\")\n",
    "relics.discard(\"Mjolnir\")\n",
    "print('Updated relics:', relics)\n",
    "\n",
    "# Set operations\n",
    "A = {1, 2, 3}\n",
    "B = {3, 4, 5}\n",
    "print('Union:', A.union(B))                # Union\n",
    "print('Intersection:', A.intersection(B))  # Intersection\n",
    "print('Difference:', A.difference(B))        # Difference\n",
    "print('Symmetric Difference:', A.symmetric_difference(B))  # Symmetric difference"
   ]
  },
  {
   "cell_type": "markdown",
   "id": "3b6495df",
   "metadata": {},
   "source": [
    "## 5. Exception Handling & Debugging"
   ]
  },
  {
   "cell_type": "markdown",
   "id": "20eeb682",
   "metadata": {},
   "source": [
    "### Try-Except Blocks: Handling Errors Gracefully"
   ]
  },
  {
   "cell_type": "code",
   "execution_count": null,
   "id": "e1324c3a",
   "metadata": {},
   "outputs": [],
   "source": [
    "try:\n",
    "    num = int(input(\"Enter a number: \"))\n",
    "except ValueError:\n",
    "    print(\"Invalid input. Please enter a valid number.\")\n",
    "else:\n",
    "    print(\"You entered:\", num)\n",
    "finally:\n",
    "    print(\"Execution complete.\")\n",
    "\n",
    "\n",
    "# Handling division by zero and type errors\n",
    "try:\n",
    "    result = 10 / 0\n",
    "except ZeroDivisionError:\n",
    "    print(\"Error: Division by zero encountered!\")\n",
    "except TypeError:\n",
    "    print(\"Error: Invalid type provided!\")\n",
    "else:\n",
    "    print(\"Division successful, result:\", result)\n",
    "finally:\n",
    "    print(\"Cleanup actions executed.\")"
   ]
  },
  {
   "cell_type": "markdown",
   "id": "0f87c898",
   "metadata": {},
   "source": [
    "### More Exception Cases: File and Key Errors"
   ]
  },
  {
   "cell_type": "code",
   "execution_count": null,
   "id": "9a2aa982",
   "metadata": {},
   "outputs": [],
   "source": [
    "try:\n",
    "    data = {'matrix': 'red pill', 'reality': 'blue pill'}\n",
    "    print(data['illusion'])\n",
    "except KeyError:\n",
    "    print(\"KeyError: 'illusion' not found in data.\")\n",
    "\n",
    "try:\n",
    "    with open('non_existent_file.txt', 'r') as f:\n",
    "        content = f.read()\n",
    "except FileNotFoundError:\n",
    "    print(\"FileNotFoundError: The file does not exist.\")\n",
    "finally:\n",
    "    print(\"File operation attempted.\")"
   ]
  },
  {
   "cell_type": "markdown",
   "id": "6d1fabcd",
   "metadata": {},
   "source": [
    "### Debugging Tips"
   ]
  },
  {
   "cell_type": "markdown",
   "id": "4b2e56e5",
   "metadata": {},
   "source": [
    "Debugging is an art—like detective work in code:\n",
    "\n",
    "- Use `print()` to inspect variable values.\n",
    "- Use a debugger (e.g., `%debug` in Jupyter) to step through your code.\n",
    "- Write tests to isolate bugs.\n",
    "- Comment your code and use logging for more complex projects.\n",
    "\n",
    "Remember: Even Morpheus had to debug the Matrix!"
   ]
  },
  {
   "cell_type": "markdown",
   "id": "2835609c",
   "metadata": {},
   "source": [
    "## 6. File Handling"
   ]
  },
  {
   "cell_type": "markdown",
   "id": "8d68dfff",
   "metadata": {},
   "source": [
    "### File Modes & Cursor Control"
   ]
  },
  {
   "cell_type": "markdown",
   "id": "5b1d958a",
   "metadata": {},
   "source": [
    "File modes determine how you interact with files:\n",
    "\n",
    "| Mode  | Description |\n",
    "|-------|-------------|\n",
    "| `'r'`   | Read (file must exist) |\n",
    "| `'w'`   | Write (overwrites file) |\n",
    "| `'a'`   | Append (adds to end of file) |\n",
    "| `'x'`   | Exclusive creation (fails if file exists) |\n",
    "| `'r+'`  | Read and write |\n",
    "\n",
    "Cursor methods:\n",
    "- `.tell()` returns the current position (in bytes).\n",
    "- `.seek(offset, from)` moves the cursor (0: start, 1: current, 2: end).\n",
    "- `.truncate()` cuts the file at the current cursor position.\n",
    "\n",
    "Think of it as rewinding or fast‑forwarding through a mixtape."
   ]
  },
  {
   "cell_type": "markdown",
   "id": "cb865aed",
   "metadata": {},
   "source": [
    "```python\n",
    "# Read entire file as a string\n",
    "content = f.read()\n",
    "\n",
    "# Read file line by line into a list\n",
    "lines = f.readlines()\n",
    "\n",
    "# Write a string to a file\n",
    "f.write(\"Some text\")\n",
    "\n",
    "# Write multiple lines from a list\n",
    "f.writelines([\"Line 1\\n\", \"Line 2\\n\"])"
   ]
  },
  {
   "cell_type": "markdown",
   "id": "15e3dd82",
   "metadata": {},
   "source": [
    "### File I/O Examples"
   ]
  },
  {
   "cell_type": "code",
   "execution_count": null,
   "id": "964c5cbd",
   "metadata": {},
   "outputs": [],
   "source": [
    "# Example: Using 'a+' mode to read and then write\n",
    "with open('Example2.txt', 'a+') as file:\n",
    "    print(\"Initial Location:\", file.tell())\n",
    "    data = file.read()\n",
    "    if not data:\n",
    "        print('Read nothing')\n",
    "    else:\n",
    "        print('Data:', data)\n",
    "    file.seek(0, 0)  # Move to beginning\n",
    "    print(\"New Location:\", file.tell())\n",
    "    data = file.read()\n",
    "    if not data:\n",
    "        print('Read nothing')\n",
    "    else:\n",
    "        print('Data after seek:', data)\n",
    "    print(\"Location after read:\", file.tell())\n",
    "\n",
    "# Example: Using 'r+' mode with truncate\n",
    "with open('Example2.txt', 'r+') as file:\n",
    "    file.seek(0, 0)  # Write at beginning\n",
    "    file.write(\"Line 1\\nLine 2\\nLine 3\\nLine 4\\nfinished\\n\")\n",
    "    file.truncate()  # Remove extra content\n",
    "    file.seek(0, 0)\n",
    "    print(file.read())"
   ]
  },
  {
   "cell_type": "markdown",
   "id": "63e48fb7",
   "metadata": {},
   "source": [
    "### Reading and Writing CSV, Excel & SQL"
   ]
  },
  {
   "cell_type": "markdown",
   "id": "1d66989f",
   "metadata": {},
   "source": [
    "Pandas makes it easy to work with data files. Use the following methods:\n",
    "\n",
    "- **CSV Files**:\n",
    "  - Read: `pd.read_csv('data.csv')`\n",
    "  - Write: `df.to_csv('output.csv', index=False)`\n",
    "\n",
    "- **Excel Files**:\n",
    "  - Read: `pd.read_excel('data.xlsx')`\n",
    "  - Write: `df.to_excel('output.xlsx', index=False)`\n",
    "\n",
    "- **SQL Databases**: Use `pd.read_sql()` and `df.to_sql()` (requires SQLAlchemy).\n",
    "\n",
    "These methods allow you to import/export data seamlessly."
   ]
  },
  {
   "cell_type": "markdown",
   "id": "2c0bbc37",
   "metadata": {},
   "source": [
    "#### Arsenal & Star Trek Themed Data Examples"
   ]
  },
  {
   "cell_type": "code",
   "execution_count": null,
   "id": "d3710a1e",
   "metadata": {},
   "outputs": [],
   "source": [
    "import pandas as pd\n",
    "\n",
    "# DataFrame\n",
    "arsenal_data = {\n",
    "    'Player': ['Thierry Henry', 'Cesc Fabregas', 'Robin van Persie', 'Samir Nasri', 'Jack Wilshere'],\n",
    "    'ShirtNumber': [14, 4, 10, 7, 8],\n",
    "    'Position': ['Forward', 'Midfielder', 'Forward', 'Midfielder', 'Midfielder'],\n",
    "    'Goals': [175, 69, 52, 30, 20],\n",
    "    'Appearances': [369, 266, 150, 200, 300]\n",
    "}\n",
    "arsenal_df = pd.DataFrame(arsenal_data)\n",
    "print('Arsenal DataFrame:')\n",
    "print(arsenal_df.head())\n",
    "\n",
    "# Star Trek DataFrame\n",
    "tng_data = {\n",
    "    'Officer': ['Jean-Luc Picard', 'William Riker', 'Data', 'Geordi La Forge', 'Worf'],\n",
    "    'Position': ['Captain', 'Commander', 'Lt. Commander', 'Chief Engineer', 'Lieutenant'],\n",
    "    'Age': [59, 42, 35, 40, 38],\n",
    "    'Department': ['Command', 'Command', 'Operations', 'Engineering', 'Security']\n",
    "}\n",
    "tng_df = pd.DataFrame(tng_data)\n",
    "print('\\nStar Trek TNG DataFrame:')\n",
    "print(tng_df.head())"
   ]
  },
  {
   "cell_type": "markdown",
   "id": "50a1b508",
   "metadata": {},
   "source": [
    "### Advanced DataFrame Indexing & Slicing"
   ]
  },
  {
   "cell_type": "markdown",
   "id": "61e08ffb",
   "metadata": {},
   "source": [
    "Pandas offers two main indexing methods:\n",
    "\n",
    "- **.loc[]**: Label-based indexing (inclusive of both start and stop).\n",
    "- **.iloc[]**: Integer position-based indexing (like standard Python slicing).\n",
    "\n",
    "Examples:\n",
    "\n",
    "```python\n",
    "# iloc: Get rows 0 to 1 and columns 0 to 2 from Arsenal DataFrame\n",
    "arsenal_df.iloc[0:2, 0:3]\n",
    "\n",
    "# loc: Select rows by label and columns by name from TNG DataFrame\n",
    "tng_df.loc[2:3, 'Officer':'Department']\n",
    "\n",
    "# Access a single element\n",
    "arsenal_df.loc[arsenal_df.index[0], 'Goals']\n",
    "\n",
    "# Slicing with loc (both bounds inclusive)\n",
    "tng_df.loc[0:2, 'Officer':'Age']\n",
    "```"
   ]
  },
  {
   "cell_type": "markdown",
   "id": "9be2e522",
   "metadata": {},
   "source": [
    "### Filtering, Grouping & Merging DataFrames"
   ]
  },
  {
   "cell_type": "code",
   "execution_count": null,
   "id": "a616456f",
   "metadata": {},
   "outputs": [],
   "source": [
    "# Filter Arsenal players with fewer than 60 goals\n",
    "filtered_arsenal = arsenal_df[arsenal_df['Goals'] < 60]\n",
    "print(filtered_arsenal)\n",
    "\n",
    "# Group TNG officers by Department and count them\n",
    "grouped_tng = tng_df.groupby('Department').size()\n",
    "print(grouped_tng)\n",
    "\n",
    "# Merging DataFrames: Example of a simple merge\n",
    "merged_df = pd.merge(arsenal_df, tng_df, how='cross')\n",
    "print(merged_df.head())"
   ]
  },
  {
   "cell_type": "markdown",
   "id": "74f8daad",
   "metadata": {},
   "source": [
    "### Working with Pandas Series"
   ]
  },
  {
   "cell_type": "code",
   "execution_count": null,
   "id": "0802728e",
   "metadata": {},
   "outputs": [],
   "source": [
    "# Creating a Pandas Series\n",
    "s = pd.Series([10, 20, 30, 40, 50])\n",
    "print('Series values:', s.values) # [10 20 30 40 50]\n",
    "print('Series index:', s.index) # RangeIndex(start=0, stop=5, step=1)\n",
    "print('Series shape:', s.shape) # (5,)\n",
    "\n",
    "# Series methods\n",
    "print('Mean:', s.mean()) # 30.0\n",
    "print('Sum:', s.sum()) # 150\n",
    "print('Unique values:', s.unique()) # [10 20 30 40 50]"
   ]
  },
  {
   "cell_type": "markdown",
   "id": "c280204c",
   "metadata": {},
   "source": [
    "## 7. Object-Oriented Programming (OOP)"
   ]
  },
  {
   "cell_type": "markdown",
   "id": "9325d5e9",
   "metadata": {},
   "source": [
    "### Class Definition & Object Creation"
   ]
  },
  {
   "cell_type": "code",
   "execution_count": null,
   "id": "68acf61f",
   "metadata": {},
   "outputs": [],
   "source": [
    "class Person:\n",
    "    def __init__(self, name, age):\n",
    "        self.name = name\n",
    "        self.age = age\n",
    "\n",
    "    def greet(self):\n",
    "        return f\"Hello, my name is {self.name} and I'm {self.age} years old.\"\n",
    "\n",
    "# Create an instance of Person\n",
    "person1 = Person(\"Alice\", 25)\n",
    "print(person1.greet())"
   ]
  },
  {
   "cell_type": "markdown",
   "id": "d15936a1",
   "metadata": {},
   "source": [
    "## 8. Data Handling with Pandas and NumPy"
   ]
  },
  {
   "cell_type": "markdown",
   "id": "9ddc2ae2",
   "metadata": {},
   "source": [
    "### Pandas Cheat Sheet"
   ]
  },
  {
   "cell_type": "markdown",
   "id": "57fbea9a",
   "metadata": {},
   "source": [
    "| Method | Description | Syntax & Example |\n",
    "|--------|-------------|------------------|\n",
    "| `.dtypes` | Shows data types of different columns in the DataFrame | `df.dtypes`   |\n",
    "| `.astype` | Allows to convert data types in the DataFrame. This should also be used when using replace, fillna and read_csv to  | `df['price', 'size'] = df['price', 'size'].astype('int')` and e.g. # Clean up missing values safely `df[\"price\"] = df[\"price\"].replace(\"?\", np.nan).astype(float)`  |\n",
    "| `.read_csv(<CSV_path>)` | Read CSV file into DataFrame | `df = pd.read_csv(\"data.csv\")` , or if no header `df = pd.read_csv(\"data.csv\", header = None)`, or if header definedas a list header `df = pd.read_csv(file_name, names = headers)`   |\n",
    "| `.read_excel()` | Read Excel file | `df = pd.read_excel(\"data.xlsx\")` |\n",
    "| `.to_csv(<output CSV path>)` | Write DataFrame to CSV. index = False means row names will not be written | `df.to_csv(\"output.csv\", index=False)` |\n",
    "| `df[\"col\"]` | Access a column | `df[\"age\"]` |\n",
    "| `.describe()` | Summary statistics by default to number columns | `df.describe()`, for all fields `df.describe(include=\"all\")` |\n",
    "| `.replace(\"?\", np.NaN, inplace = True))` | Replaces '?' value with NumPy NaN, this allows to clean data from unused values. Inplace=True assigns to same variable df BUT from 3.0 should assign properly and stop using inplace=True -> | `df = df.replace(\"?\", np.NaN)`|\n",
    "| `.[\"column1\"].replace(np.NaN, mean)` | Replaces np.NaN value in column1 with variable mean, this allows to update data from unknown values to something like the mean. From 3.0 should assign properly | `mean = df[\"price\"].mean()` or safer `mean = df[\"price\"].astype(\"float\").mean(axis=0)` <- sets mean value as mean of value from colum so it can be used for replacing NaN values in column -> `df['price'] = df[\"price\"].replace(np.NaN, mean)`|\n",
    "| `.drop()` | Drop rows/columns | `df.drop([\"col\"], axis=1, inplace=True)` |\n",
    "| `.dropna()` | Remove NaN rows | `df.dropna(inplace=True)` |\n",
    "| `.dropdna(subset=[\"column1\"], axis=0)` | Drops all rows, where column1 has a NaN value, this allows to clean data from rows that are missing relevant data | `df.dropdna(subset=[\"price\"], axis=0)`|\n",
    "| `.groupby()` | Group and aggregate data | `df.groupby(\"col\").agg({\"sales\": \"sum\"})` |\n",
    "| `.head()` | Show first n rows | `df.head(5)` |\n",
    "| `.tail()` | Show last n rows | `df.tail(5)` |\n",
    "| `.info()` | DataFrame info | `df.info()` |\n",
    "| `.merge()` | Merge DataFrames | `merged_df = pd.merge(df1, df2, on=[\"key\"])` |\n",
    "| `.columns` | Show headers | `df.columns` |\n",
    "| `.columns = headers` | Set columns to headers list variable | `df.columns = headers`, headers = [\"id\", \"name\"] |\n",
    "| `.get_dummies` | Creates dummy or indicator variables so can turn categorical variables into quantitive ones so each value in column gets its own column | `dummy_variable_1 = pd.get_dummies(df[\"fuel-type\"])` and then rename columns `dummy_variable_1.rename(columns={'gas':'fuel-type-gas', 'diesel':'fuel-type-diesel'}, inplace=True)` and merge 2 datafames `df = pd.concat([df, dummy_variable_1], axis=1)` and finally drop original column \"fuel-type\" from \"df\" `df.drop(\"fuel-type\", axis = 1, inplace=True)`|\n",
    "| `.rename()` | Allows to rename for example columns column | `df = df.rename(columns={\"mpg\": \"l/100km\"})` e.g. `df.rename(columns={'old_name':\\'new_name'}, inplace=True)`|\n",
    "| `.isnull()` | Allows to check if value that is passed into it is in fact missing data. Everything NaN evaluates to True | `missing_data = df.isnull()` `missing_data.head(5)` |\n",
    "| `.notnull()` | Allows to check if value that is passed into it is NOT in fact missing data. Everything NaN evaluates to False | `missing_data = df.isnotnull()` `missing_data.head(5)` |\n",
    "| `.value_counts()` | Allows to check value counts in column | `df['price'].value_counts()` |\n",
    "| `.idxmax()` | Calculates most common type in column | `df['price'].value_counts().idxmax()` with variable `MostFrequentEntry = df['attribute_name'].value_counts().idxmax()` `df['attribute_name'].replace(np.nan,MostFrequentEntry,inplace=True)` |"
   ]
  },
  {
   "cell_type": "markdown",
   "id": "7329b3cf",
   "metadata": {},
   "source": [
    "### Iterating through data to see what has missing data"
   ]
  },
  {
   "cell_type": "markdown",
   "id": "1f570af7",
   "metadata": {},
   "source": [
    "```python\n",
    "missing_data = df.isnull()\n",
    "print(missing_data.head())\n",
    "for column in missing_data.columns.values.tolist():\n",
    "    print(column)\n",
    "    print (missing_data[column].value_counts())\n",
    "    print(\"\")  \n",
    "```"
   ]
  },
  {
   "cell_type": "markdown",
   "id": "d5eddf40",
   "metadata": {},
   "source": [
    "### Normalisation"
   ]
  },
  {
   "cell_type": "markdown",
   "id": "de3c13c7",
   "metadata": {},
   "source": [
    "```python\n",
    "df['attribute_name'] = df['attribute_name']/df['attribute_name'].max()\n",
    "```"
   ]
  },
  {
   "cell_type": "markdown",
   "id": "db8ccb0f",
   "metadata": {},
   "source": [
    "### Binning"
   ]
  },
  {
   "cell_type": "markdown",
   "id": "558c0ed5",
   "metadata": {},
   "source": [
    "```python\n",
    "bins = np.linspace(min(df['attribute_name']), \n",
    "max(df['attribute_name'],n)\n",
    "# n is the number of bins needed \n",
    "GroupNames = ['Group1','Group2','Group3,...]\n",
    "df['binned_attribute_name'] = \n",
    "pd.cut(df['attribute_name'], bins, labels=GroupNames, include_lowest=True)\n",
    "```"
   ]
  },
  {
   "cell_type": "markdown",
   "id": "bfd1b79d",
   "metadata": {},
   "source": [
    "### Plot graphs"
   ]
  },
  {
   "cell_type": "markdown",
   "id": "0536c13e",
   "metadata": {},
   "source": [
    "```python\n",
    "plt.bar(group_names, df[\"Price-binned\"].value_counts())\n",
    "plt.xlabel(\"Price\")\n",
    "plt.ylabel(\"count\")\n",
    "plt.title(\"Price bins\")\n",
    "```"
   ]
  },
  {
   "cell_type": "markdown",
   "id": "6190bd9e",
   "metadata": {},
   "source": [
    "## 9. Numerical Computing with NumPy"
   ]
  },
  {
   "cell_type": "markdown",
   "id": "81c01a90",
   "metadata": {},
   "source": [
    "### NumPy Cheatsheet"
   ]
  },
  {
   "cell_type": "markdown",
   "id": "c140f252",
   "metadata": {},
   "source": [
    "| Method | Description | Syntax & Example |\n",
    "|--------|-------------|------------------|\n",
    "| `np.array()` | Create an array | `arr = np.array([1,2,3])` |\n",
    "| `np.mean()` | Mean of elements | `np.mean(arr)` |\n",
    "| `np.sum()`  | Sum of elements | `np.sum(arr)` |\n",
    "| `np.min()`  | Minimum value | `np.min(arr)` |\n",
    "| `np.max()`  | Maximum value | `np.max(arr)` |\n",
    "| `np.dot()`  | Dot product | `np.dot(arr1, arr2)` |\n",
    "| `np.round()`  | Round values in this case for colum Screen Size to nearest 2 decimal places | `np.round(df[['Screen_Size']], 2)` |\n",
    "| `np.linspace()`  | Creates bins of data. E.g. creates 3 equal sized bins needs 4 numbers (1,3,5,7) and labels them. Name them and use function cut to determine where each value belongs to -> | `bins = np.linspace(min(df['price']), max(df['price']),4)`, `group_names = [\"Low\", \"Medium\", \"High\"]`, `df['price-binned'] = pd.cut(df['price'], bins, labels=group_names, include_lowest=True)` |"
   ]
  },
  {
   "cell_type": "markdown",
   "id": "9c0eb838",
   "metadata": {},
   "source": [
    "### NumPy Arrays: The Core of Scientific Computing"
   ]
  },
  {
   "cell_type": "markdown",
   "id": "5fab71d1",
   "metadata": {},
   "source": [
    "NumPy arrays are fast and efficient, powering complex calculations."
   ]
  },
  {
   "cell_type": "markdown",
   "id": "a6ace3ac",
   "metadata": {},
   "source": [
    "### Creating and Manipulating Arrays"
   ]
  },
  {
   "cell_type": "code",
   "execution_count": null,
   "id": "cc262092",
   "metadata": {},
   "outputs": [],
   "source": [
    "import numpy as np\n",
    "\n",
    "# Creating arrays\n",
    "arr1 = np.array([1, 2, 3, 4, 5])\n",
    "arr2 = np.array([[1, 2], [3, 4]])\n",
    "\n",
    "# Basic attributes\n",
    "print('Dimensions:', arr1.ndim)\n",
    "print('Shape:', arr1.shape)\n",
    "print('Size:', arr1.size)\n",
    "\n",
    "# Slicing with steps\n",
    "print('Slice [1:5:2]:', arr1[1:5:2])\n",
    "\n",
    "# Element-wise operations\n",
    "print('Addition (broadcasting):', arr1 + 5)\n",
    "print('Multiplication:', arr1 * 2)\n",
    "\n",
    "# Dot product\n",
    "dot_product = np.dot(arr1, arr1)\n",
    "print('Dot product:', dot_product)"
   ]
  },
  {
   "cell_type": "markdown",
   "id": "8548749f",
   "metadata": {},
   "source": [
    "### Universal Functions & Matrix Operations"
   ]
  },
  {
   "cell_type": "code",
   "execution_count": null,
   "id": "a8807eb2",
   "metadata": {},
   "outputs": [],
   "source": [
    "# Universal functions operate element-wise\n",
    "print('Mean:', np.mean(arr1))\n",
    "print('Standard Deviation:', np.std(arr1))\n",
    "\n",
    "# Matrix multiplication example\n",
    "mat1 = np.array([[1, 2], [3, 4]])\n",
    "mat2 = np.array([[5, 6], [7, 8]])\n",
    "print('Matrix multiplication (dot):', np.dot(mat1, mat2))"
   ]
  },
  {
   "cell_type": "markdown",
   "id": "3552abf4",
   "metadata": {},
   "source": [
    "## 9. API & Web Scraping"
   ]
  },
  {
   "cell_type": "markdown",
   "id": "b3bfe356",
   "metadata": {},
   "source": [
    "### Making API Requests with Requests"
   ]
  },
  {
   "cell_type": "code",
   "execution_count": null,
   "id": "4c3bfc7f",
   "metadata": {},
   "outputs": [],
   "source": [
    "import requests\n",
    "\n",
    "url = \"https://api.example.com/data\"\n",
    "response = requests.get(url)\n",
    "if response.status_code == 200:\n",
    "    data = response.json()\n",
    "    print(data)\n",
    "else:\n",
    "    print('Failed to retrieve data:', response.status_code)"
   ]
  },
  {
   "cell_type": "markdown",
   "id": "0f31382b",
   "metadata": {},
   "source": [
    "### Web Scraping with BeautifulSoup"
   ]
  },
  {
   "cell_type": "code",
   "execution_count": null,
   "id": "bc4024f3",
   "metadata": {},
   "outputs": [],
   "source": [
    "from bs4 import BeautifulSoup\n",
    "\n",
    "# Imagine scraping secret archives from a digital world like in Assassin’s Creed\n",
    "html = '<html><body><a href=\"http://example.com\">Link</a></body></html>'\n",
    "soup = BeautifulSoup(html, 'html.parser')\n",
    "link = soup.find('a')\n",
    "print('Scraped link:', link['href'])"
   ]
  },
  {
   "cell_type": "markdown",
   "id": "55bd99ff",
   "metadata": {},
   "source": [
    "### API Request Methods and Headers"
   ]
  },
  {
   "cell_type": "markdown",
   "id": "e1a718fd",
   "metadata": {},
   "source": [
    "| Method   | Description                  | Syntax & Example |\n",
    "|----------|------------------------------|------------------|\n",
    "| `GET`    | Retrieve data                | `response = requests.get(url)` |\n",
    "| `POST`   | Submit new data              | `response = requests.post(url, data={...})` |\n",
    "| `PUT`    | Update existing data         | `response = requests.put(url, data={...})` |\n",
    "| `DELETE` | Delete a resource            | `response = requests.delete(url)` |\n",
    "| Headers  | Pass custom headers          | `headers = {'Authorization': 'Bearer TOKEN'}` |"
   ]
  },
  {
   "cell_type": "markdown",
   "id": "f76a6e9b",
   "metadata": {},
   "source": [
    "## End of Cheat Sheet"
   ]
  },
  {
   "cell_type": "markdown",
   "id": "ded72f33",
   "metadata": {},
   "source": [
    "Congratulations, Code Warrior! This notebook provides a comprehensive reference for Python programming fundamentals, data structures, control flow, file handling, OOP, and data manipulation libraries. It's designed to be both a quick reference and a learning tool. Feel free to extend and modify it to fit your projects and style. Happy coding and may your algorithms be ever in your favor!"
   ]
  }
 ],
 "metadata": {
  "language_info": {
   "name": "python"
  }
 },
 "nbformat": 4,
 "nbformat_minor": 5
}
