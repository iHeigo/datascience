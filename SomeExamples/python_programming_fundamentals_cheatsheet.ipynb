{
 "cells": [
  {
   "cell_type": "markdown",
   "id": "2386cf18",
   "metadata": {},
   "source": [
    "# Python Programming Fundamentals Cheat Sheet"
   ]
  },
  {
   "cell_type": "markdown",
   "id": "5a7c92b5",
   "metadata": {},
   "source": [
    "Welcome to your fun and friendly Python cheat sheet! This notebook covers Python basics, control flow, data structures, file I/O, exception handling, object-oriented programming, and data libraries (Pandas, NumPy), plus API & web scraping tips. Each section includes practical examples and explanations to help you understand why things work as they do."
   ]
  },
  {
   "cell_type": "markdown",
   "id": "f55de425",
   "metadata": {},
   "source": [
    "## 1. Python Fundamentals"
   ]
  },
  {
   "cell_type": "markdown",
   "id": "ba0eda03",
   "metadata": {},
   "source": [
    "### Comments"
   ]
  },
  {
   "cell_type": "code",
   "execution_count": null,
   "id": "48a4622f",
   "metadata": {},
   "outputs": [],
   "source": [
    "# Single-line comment: used to explain code or disable execution\n",
    "# This is a comment\n",
    "\n",
    "\"\"\" \n",
    "Multi-line comments are great for longer explanations, \n",
    "documentation, or sectioning off your code.\n",
    "\"\"\""
   ]
  },
  {
   "cell_type": "markdown",
   "id": "023fc6f9",
   "metadata": {},
   "source": [
    "### Variable Assignment & Data Types"
   ]
  },
  {
   "cell_type": "code",
   "execution_count": null,
   "id": "08b3abb0",
   "metadata": {},
   "outputs": [],
   "source": [
    "# Variables store values for later use\n",
    "name = \"John\"  # String\n",
    "age = 30         # Integer\n",
    "pi = 3.14        # Float\n",
    "is_valid = True  # Boolean\n",
    "\n",
    "# Data Types examples:\n",
    "x = 10           # int\n",
    "y = 3.14         # float\n",
    "text = \"Hello\"  # string\n",
    "flag = False     # bool"
   ]
  },
  {
   "cell_type": "markdown",
   "id": "f31c976c",
   "metadata": {},
   "source": [
    "### String Operations & Indexing/Slicing"
   ]
  },
  {
   "cell_type": "code",
   "execution_count": null,
   "id": "070c6884",
   "metadata": {},
   "outputs": [],
   "source": [
    "# Strings are sequences of characters\n",
    "text = \"Hello World\"\n",
    "print('Original:', text)\n",
    "\n",
    "# Indexing (0-based):\n",
    "print('First character:', text[0])  # 'H'\n",
    "print('Last character:', text[-1])  # 'd'\n",
    "\n",
    "# Slicing: extract part of the string\n",
    "print('Substring [1:5]:', text[1:5])  # 'ello'\n",
    "\n",
    "# Useful methods:\n",
    "print('Lowercase:', text.lower())\n",
    "print('Uppercase:', text.upper())\n",
    "print('Trimmed:', \"   spaced   \".strip())\n",
    "print('Replaced:', text.replace(\"World\", \"Python\"))\n",
    "print('Split:', text.split())"
   ]
  },
  {
   "cell_type": "markdown",
   "id": "13420eef",
   "metadata": {},
   "source": [
    "### Operators & Comparisons"
   ]
  },
  {
   "cell_type": "markdown",
   "id": "7343cf4e",
   "metadata": {},
   "source": [
    "Operators are the building blocks of expressions. Here are some common ones:\n",
    "\n",
    "| Operator | Description | Example |\n",
    "|----------|-------------|---------|\n",
    "| `+`      | Addition    | `3 + 5` |\n",
    "| `-`      | Subtraction | `10 - 2` |\n",
    "| `*`      | Multiplication | `4 * 3` |\n",
    "| `/`      | Division (float) | `10 / 2` |\n",
    "| `//`     | Floor Division | `10 // 3` |\n",
    "| `%`      | Modulus     | `10 % 3` |\n",
    "| `**`     | Exponentiation | `2 ** 3` |\n",
    "| `==`     | Equal       | `x == y` |\n",
    "| `!=`     | Not Equal   | `x != y` |\n",
    "| `>=`     | Greater Than or Equal | `x >= y` |\n",
    "| `>`      | Greater Than | `x > y` |\n",
    "| `<=`     | Less Than or Equal | `x <= y` |\n",
    "| `<`      | Less Than   | `x < y` |\n",
    "| `and`    | Logical AND | `x > 5 and y < 10` |\n",
    "| `or`     | Logical OR  | `x == 5 or y == 10` |\n",
    "| `not`    | Logical NOT | `not flag` |\n",
    "\n",
    "These operators let you compare values and build complex conditions."
   ]
  },
  {
   "cell_type": "markdown",
   "id": "a5e79052",
   "metadata": {},
   "source": [
    "### Branching & Control Flow"
   ]
  },
  {
   "cell_type": "markdown",
   "id": "7abe5da2",
   "metadata": {},
   "source": [
    "Control flow lets your program make decisions. \n",
    "\n",
    "#### If, Elif, Else\n",
    "```python\n",
    "score = 85\n",
    "if score >= 90:\n",
    "    print(\"You got an A!\")\n",
    "elif score >= 80:\n",
    "    print(\"You got a B.\")\n",
    "else:\n",
    "    print(\"Need improvement.\")\n",
    "```\n",
    "\n",
    "This structure checks conditions in order and runs the block for the first `True` condition."
   ]
  },
  {
   "cell_type": "markdown",
   "id": "3abba72e",
   "metadata": {},
   "source": [
    "## 2. Loop Flow"
   ]
  },
  {
   "cell_type": "markdown",
   "id": "5ce41ea3",
   "metadata": {},
   "source": [
    "Both **for** and **while** loops follow a pattern:\n",
    "1. **Initialization:** Set up your starting point or conditions.\n",
    "2. **Condition:** Decide when the loop should keep going.\n",
    "3. **Execution:** Run the code inside the loop.\n",
    "4. **Update:** Change your starting point or condition to eventually end the loop.\n",
    "\n",
    "Use **for loops** when you know the number of iterations or are iterating over a collection. Use **while loops** when the number of iterations is uncertain and depends on a condition."
   ]
  },
  {
   "cell_type": "markdown",
   "id": "7aab8b2e",
   "metadata": {},
   "source": [
    "### For Loops: Iterating Over a Collection"
   ]
  },
  {
   "cell_type": "code",
   "execution_count": null,
   "id": "a025e33e",
   "metadata": {},
   "outputs": [],
   "source": [
    "# Example: Iterating over a list of dates\n",
    "dates = [1982, 1980, 1973]\n",
    "N = len(dates)  # Initialization: get the number of elements\n",
    "\n",
    "for i in range(N):  # Loop from 0 to N-1\n",
    "    print(f\"Date at index {i}: {dates[i]}\")  # Execution"
   ]
  },
  {
   "cell_type": "markdown",
   "id": "752ff926",
   "metadata": {},
   "source": [
    "### For Loops: Modifying Elements in a List"
   ]
  },
  {
   "cell_type": "code",
   "execution_count": null,
   "id": "d1a1a70f",
   "metadata": {},
   "outputs": [],
   "source": [
    "# Example: Changing all elements in a list\n",
    "squares = ['red', 'yellow', 'green', 'purple', 'blue']\n",
    "\n",
    "for i in range(len(squares)):\n",
    "    print(f\"Before square {i}: {squares[i]}\")  # Before update\n",
    "    squares[i] = 'white'  # Update\n",
    "    print(f\"After square {i}: {squares[i]}\")  # After update"
   ]
  },
  {
   "cell_type": "markdown",
   "id": "5fbbffc2",
   "metadata": {},
   "source": [
    "### While Loops: Repeating Until a Condition is Met"
   ]
  },
  {
   "cell_type": "code",
   "execution_count": null,
   "id": "347b88ea",
   "metadata": {},
   "outputs": [],
   "source": [
    "# Example: Print numbers until a condition is false\n",
    "count = 0  # Initialization\n",
    "while count < 5:  # Condition\n",
    "    print(f\"Count is {count}\")  # Execution\n",
    "    count += 1  # Update"
   ]
  },
  {
   "cell_type": "markdown",
   "id": "a0f13238",
   "metadata": {},
   "source": [
    "### Advanced Looping: Using `enumerate`"
   ]
  },
  {
   "cell_type": "code",
   "execution_count": null,
   "id": "aaee8367",
   "metadata": {},
   "outputs": [],
   "source": [
    "# Example: Looping with enumerate to get index and value\n",
    "colors = ['red', 'green', 'blue']\n",
    "for index, color in enumerate(colors):\n",
    "    print(f\"Color at index {index}: {color}\")"
   ]
  },
  {
   "cell_type": "markdown",
   "id": "19433b17",
   "metadata": {},
   "source": [
    "## 3. Functions & Lambdas"
   ]
  },
  {
   "cell_type": "markdown",
   "id": "10b5a3e1",
   "metadata": {},
   "source": [
    "### Function Definition and Call"
   ]
  },
  {
   "cell_type": "code",
   "execution_count": null,
   "id": "68c41153",
   "metadata": {},
   "outputs": [],
   "source": [
    "# Functions allow you to reuse code.\n",
    "def greet(name):\n",
    "    # Return a greeting message\n",
    "    return f\"Hello, {name}!\"\n",
    "\n",
    "print(greet(\"Alice\"))  # Output: Hello, Alice!"
   ]
  },
  {
   "cell_type": "markdown",
   "id": "58c0f8a7",
   "metadata": {},
   "source": [
    "### Lambda Functions: Quick, Anonymous Functions"
   ]
  },
  {
   "cell_type": "code",
   "execution_count": null,
   "id": "9702f1db",
   "metadata": {},
   "outputs": [],
   "source": [
    "# Lambda example: a one-line function to square a number\n",
    "square = lambda x: x * x\n",
    "print(square(5))  # Output: 25"
   ]
  },
  {
   "cell_type": "markdown",
   "id": "acde0fe5",
   "metadata": {},
   "source": [
    "### Return Statement"
   ]
  },
  {
   "cell_type": "code",
   "execution_count": null,
   "id": "9dbee379",
   "metadata": {},
   "outputs": [],
   "source": [
    "def add(a, b):\n",
    "    return a + b  # Send the result back to the caller\n",
    "\n",
    "result = add(3, 5)\n",
    "print(result)  # Output: 8"
   ]
  },
  {
   "cell_type": "markdown",
   "id": "26eb644b",
   "metadata": {},
   "source": [
    "## 4. Data Structures"
   ]
  },
  {
   "cell_type": "markdown",
   "id": "58711d28",
   "metadata": {},
   "source": [
    "### Comparison: Lists, Tuples, Dictionaries, and Sets"
   ]
  },
  {
   "cell_type": "markdown",
   "id": "89956901",
   "metadata": {},
   "source": [
    "| Feature        | List (`[]`)        | Tuple (`()`)         | Dictionary (`{}`)                           | Set (`{}`)                    |\n",
    "|----------------|--------------------|----------------------|---------------------------------------------|-------------------------------|\n",
    "| Ordered        | ✅ Yes             | ✅ Yes               | ✅ Yes (insertion order in Python 3.7+)      | ❌ Unordered                  |\n",
    "| Mutable        | ✅ Yes             | ❌ No                | ✅ Yes (values mutable; keys immutable)     | ✅ Yes (elements immutable)   |\n",
    "| Duplicates     | Allowed            | Allowed              | Keys: **Unique**; Values: Allowed            | Not allowed (unique only)     |\n",
    "| Indexing       | Yes                | Yes                  | By key only                                 | Not applicable                |\n",
    "| Use Case       | Dynamic collections| Fixed data           | Fast lookup/mapping                         | Uniqueness, set operations    |"
   ]
  },
  {
   "cell_type": "markdown",
   "id": "2f477099",
   "metadata": {},
   "source": [
    "### Lists (Ordered, Mutable)"
   ]
  },
  {
   "cell_type": "code",
   "execution_count": null,
   "id": "4349ef76",
   "metadata": {},
   "outputs": [],
   "source": [
    "# Creating and manipulating a list\n",
    "fruits = ['apple', 'banana', 'cherry']\n",
    "fruits.append('mango')       # Add element to the end\n",
    "fruits.insert(1, 'orange')     # Insert at index 1\n",
    "print(f\"Element at index 0: {fruits[0]}\")\n",
    "print(f\"Slice [1:3]: {fruits[1:3]}\")\n",
    "fruits.remove('banana')        # Remove by value\n",
    "last = fruits.pop()            # Remove and return last element\n",
    "print('Updated list:', fruits)"
   ]
  },
  {
   "cell_type": "markdown",
   "id": "6e947c43",
   "metadata": {},
   "source": [
    "### Tuples (Ordered, Immutable)"
   ]
  },
  {
   "cell_type": "code",
   "execution_count": null,
   "id": "50a9d490",
   "metadata": {},
   "outputs": [],
   "source": [
    "# Creating a tuple (immutable collection)\n",
    "coordinates = (10, 20)\n",
    "x, y = coordinates           # Tuple unpacking\n",
    "print('First element of tuple:', coordinates[0])\n",
    "# Since tuples are immutable, sorting returns a new tuple\n",
    "sorted_tuple = tuple(sorted((3, 1, 4, 2)))\n",
    "print('Sorted tuple:', sorted_tuple)"
   ]
  },
  {
   "cell_type": "markdown",
   "id": "8d4009b9",
   "metadata": {},
   "source": [
    "### Dictionaries (Key-Value Pairs)"
   ]
  },
  {
   "cell_type": "code",
   "execution_count": null,
   "id": "433d3719",
   "metadata": {},
   "outputs": [],
   "source": [
    "# Creating a dictionary\n",
    "person = {\"name\": \"John\", \"age\": 30, \"city\": \"New York\"}\n",
    "print('Name:', person[\"name\"])  # Access by key\n",
    "person[\"age\"] = 31              # Update value\n",
    "person[\"country\"] = \"USA\"     # Add new key-value pair\n",
    "if \"city\" in person:\n",
    "    print(\"City exists in the dictionary.\")\n",
    "print('All keys:', list(person.keys()))\n",
    "print('All values:', list(person.values()))\n",
    "del person[\"city\"]              # Delete key\n",
    "print('Updated dictionary:', person)"
   ]
  },
  {
   "cell_type": "markdown",
   "id": "4d236573",
   "metadata": {},
   "source": [
    "### Sets (Unordered, Unique Elements)"
   ]
  },
  {
   "cell_type": "code",
   "execution_count": null,
   "id": "a5485656",
   "metadata": {},
   "outputs": [],
   "source": [
    "# Creating a set: duplicates are automatically removed\n",
    "unique_numbers = {1, 2, 3, 4, 4}\n",
    "unique_numbers.add(5)              # Add element\n",
    "unique_numbers.discard(2)          # Remove element safely\n",
    "print('Set:', unique_numbers)\n",
    "\n",
    "# Set operations\n",
    "A = {1, 2, 3}\n",
    "B = {3, 4, 5}\n",
    "print('Union:', A.union(B))                # Union\n",
    "print('Intersection:', A.intersection(B))  # Intersection\n",
    "print('Difference:', A.difference(B))        # Difference\n",
    "print('Symmetric Difference:', A.symmetric_difference(B))  # Symmetric difference"
   ]
  },
  {
   "cell_type": "markdown",
   "id": "280a41ea",
   "metadata": {},
   "source": [
    "## 5. Exception Handling"
   ]
  },
  {
   "cell_type": "markdown",
   "id": "20e7ddc3",
   "metadata": {},
   "source": [
    "### Try-Except Blocks"
   ]
  },
  {
   "cell_type": "code",
   "execution_count": null,
   "id": "7268fa4f",
   "metadata": {},
   "outputs": [],
   "source": [
    "try:\n",
    "    num = int(input(\"Enter a number: \"))\n",
    "except ValueError:\n",
    "    print(\"Invalid input. Please enter a valid number.\")\n",
    "else:\n",
    "    print(\"You entered:\", num)\n",
    "finally:\n",
    "    print(\"Execution complete.\")"
   ]
  },
  {
   "cell_type": "markdown",
   "id": "edd83810",
   "metadata": {},
   "source": [
    "### Try-Except with File Handling"
   ]
  },
  {
   "cell_type": "code",
   "execution_count": null,
   "id": "3293f5b5",
   "metadata": {},
   "outputs": [],
   "source": [
    "try:\n",
    "    file = open(\"data.txt\", \"r\")\n",
    "    content = file.read()\n",
    "except FileNotFoundError:\n",
    "    print(\"File not found.\")\n",
    "finally:\n",
    "    file.close()"
   ]
  },
  {
   "cell_type": "markdown",
   "id": "883e675a",
   "metadata": {},
   "source": [
    "## 6. File Handling"
   ]
  },
  {
   "cell_type": "markdown",
   "id": "77fc1eea",
   "metadata": {},
   "source": [
    "### Using `with` for Automatic File Closure"
   ]
  },
  {
   "cell_type": "code",
   "execution_count": null,
   "id": "49a9c4c4",
   "metadata": {},
   "outputs": [],
   "source": [
    "with open(\"file.txt\", \"w\") as f:\n",
    "    f.write(\"Hello, World!\")\n",
    "\n",
    "with open(\"file.txt\", \"r\") as f:\n",
    "    content = f.read()\n",
    "    print(content)"
   ]
  },
  {
   "cell_type": "markdown",
   "id": "e22df419",
   "metadata": {},
   "source": [
    "### File Reading and Writing Methods"
   ]
  },
  {
   "cell_type": "markdown",
   "id": "a414942a",
   "metadata": {},
   "source": [
    "```python\n",
    "# Read entire file as a string\n",
    "content = f.read()\n",
    "\n",
    "# Read file line by line into a list\n",
    "lines = f.readlines()\n",
    "\n",
    "# Write a string to a file\n",
    "f.write(\"Some text\")\n",
    "\n",
    "# Write multiple lines from a list\n",
    "f.writelines([\"Line 1\\n\", \"Line 2\\n\"])\n",
    "```"
   ]
  },
  {
   "cell_type": "markdown",
   "id": "502a1a63",
   "metadata": {},
   "source": [
    "## 7. Object-Oriented Programming (OOP)"
   ]
  },
  {
   "cell_type": "markdown",
   "id": "b3c1eb6e",
   "metadata": {},
   "source": [
    "### Class Definition & Object Creation"
   ]
  },
  {
   "cell_type": "code",
   "execution_count": null,
   "id": "03cfc7b3",
   "metadata": {},
   "outputs": [],
   "source": [
    "class Person:\n",
    "    def __init__(self, name, age):\n",
    "        self.name = name\n",
    "        self.age = age\n",
    "\n",
    "    def greet(self):\n",
    "        return f\"Hello, my name is {self.name} and I'm {self.age} years old.\"\n",
    "\n",
    "# Create an instance of Person\n",
    "person1 = Person(\"Alice\", 25)\n",
    "print(person1.greet())"
   ]
  },
  {
   "cell_type": "markdown",
   "id": "9adbd337",
   "metadata": {},
   "source": [
    "## 8. Data Handling with Pandas and NumPy"
   ]
  },
  {
   "cell_type": "markdown",
   "id": "e9425306",
   "metadata": {},
   "source": [
    "### Pandas Cheat Sheet"
   ]
  },
  {
   "cell_type": "markdown",
   "id": "ebad45a3",
   "metadata": {},
   "source": [
    "| Method | Description | Syntax & Example |\n",
    "|--------|-------------|------------------|\n",
    "| `.read_csv()` | Read CSV file into DataFrame | `df = pd.read_csv(\"data.csv\")` |\n",
    "| `.read_excel()` | Read Excel file | `df = pd.read_excel(\"data.xlsx\")` |\n",
    "| `.to_csv()` | Write DataFrame to CSV | `df.to_csv(\"output.csv\", index=False)` |\n",
    "| `df[\"col\"]` | Access a column | `df[\"age\"]` |\n",
    "| `.describe()` | Summary statistics | `df.describe()` |\n",
    "| `.drop()` | Drop rows/columns | `df.drop([\"col\"], axis=1, inplace=True)` |\n",
    "| `.dropna()` | Remove NaN rows | `df.dropna(inplace=True)` |\n",
    "| `.groupby()` | Group and aggregate data | `df.groupby(\"col\").agg({\"sales\": \"sum\"})` |\n",
    "| `.head()` | Show first n rows | `df.head(5)` |\n",
    "| `.tail()` | Show last n rows | `df.tail(5)` |\n",
    "| `.info()` | DataFrame info | `df.info()` |\n",
    "| `.merge()` | Merge DataFrames | `merged_df = pd.merge(df1, df2, on=[\"key\"])` |"
   ]
  },
  {
   "cell_type": "markdown",
   "id": "e8d5db0e",
   "metadata": {},
   "source": [
    "#### Importing Pandas"
   ]
  },
  {
   "cell_type": "code",
   "execution_count": null,
   "id": "42fb6c85",
   "metadata": {},
   "outputs": [],
   "source": [
    "import pandas as pd"
   ]
  },
  {
   "cell_type": "markdown",
   "id": "d7ed4b61",
   "metadata": {},
   "source": [
    "### NumPy Cheat Sheet"
   ]
  },
  {
   "cell_type": "markdown",
   "id": "d7d2add9",
   "metadata": {},
   "source": [
    "| Method | Description | Syntax & Example |\n",
    "|--------|-------------|------------------|\n",
    "| `np.array()` | Create an array | `arr = np.array([1,2,3])` |\n",
    "| `np.mean()` | Mean of elements | `np.mean(arr)` |\n",
    "| `np.sum()`  | Sum of elements | `np.sum(arr)` |\n",
    "| `np.min()`  | Minimum value | `np.min(arr)` |\n",
    "| `np.max()`  | Maximum value | `np.max(arr)` |\n",
    "| `np.dot()`  | Dot product | `np.dot(arr1, arr2)` |"
   ]
  },
  {
   "cell_type": "markdown",
   "id": "a74b9034",
   "metadata": {},
   "source": [
    "#### Importing NumPy"
   ]
  },
  {
   "cell_type": "code",
   "execution_count": null,
   "id": "05bc0e81",
   "metadata": {},
   "outputs": [],
   "source": [
    "import numpy as np\n",
    "\n",
    "array_1d = np.array([1, 2, 3])\n",
    "array_2d = np.array([[1, 2], [3, 4]])"
   ]
  },
  {
   "cell_type": "markdown",
   "id": "96d88cb6",
   "metadata": {},
   "source": [
    "## 9. API & Data Collection Cheat Sheet"
   ]
  },
  {
   "cell_type": "markdown",
   "id": "2f5af5c1",
   "metadata": {},
   "source": [
    "### Using Requests and BeautifulSoup"
   ]
  },
  {
   "cell_type": "markdown",
   "id": "5c7168d7",
   "metadata": {},
   "source": [
    "#### Making API Requests with Requests\n",
    "```python\n",
    "import requests\n",
    "response = requests.get(\"https://api.example.com/data\")\n",
    "if response.status_code == 200:\n",
    "    data = response.json()\n",
    "    print(data)\n",
    "```\n",
    "\n",
    "#### Web Scraping with BeautifulSoup\n",
    "```python\n",
    "from bs4 import BeautifulSoup\n",
    "html = '<html><body><a href=\"http://example.com\">Link</a></body></html>'\n",
    "soup = BeautifulSoup(html, 'html.parser')\n",
    "link = soup.find('a')\n",
    "print(link['href'])\n",
    "```\n",
    "\n",
    "Other useful methods: `find_all()`, `select()`, `.text`, and DOM traversal (`.parent`, `.find_next_sibling()`)."
   ]
  },
  {
   "cell_type": "markdown",
   "id": "8c9e2b2a",
   "metadata": {},
   "source": [
    "### API Request Methods and Headers"
   ]
  },
  {
   "cell_type": "markdown",
   "id": "3a642c0c",
   "metadata": {},
   "source": [
    "| Method   | Description                  | Syntax & Example |\n",
    "|----------|------------------------------|------------------|\n",
    "| `GET`    | Retrieve data                | `response = requests.get(url)` |\n",
    "| `POST`   | Submit new data              | `response = requests.post(url, data={...})` |\n",
    "| `PUT`    | Update existing data         | `response = requests.put(url, data={...})` |\n",
    "| `DELETE` | Delete a resource            | `response = requests.delete(url)` |\n",
    "| Headers  | Pass custom headers          | `headers = {'Authorization': 'Bearer TOKEN'}` |"
   ]
  },
  {
   "cell_type": "markdown",
   "id": "ae153df6",
   "metadata": {},
   "source": [
    "## End of Cheat Sheet"
   ]
  },
  {
   "cell_type": "markdown",
   "id": "ffef09b0",
   "metadata": {},
   "source": [
    "This notebook provides a comprehensive reference for Python programming fundamentals, data structures, control flow, file handling, OOP, and data manipulation libraries. It's designed to be both a quick reference and a learning tool. Feel free to extend and modify it to fit your projects and style. Happy coding!"
   ]
  }
 ],
 "metadata": {},
 "nbformat": 4,
 "nbformat_minor": 5
}